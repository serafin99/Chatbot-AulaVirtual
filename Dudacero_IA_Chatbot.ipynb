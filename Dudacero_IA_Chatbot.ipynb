{
  "cells": [
    {
      "cell_type": "markdown",
      "metadata": {},
      "source": [
        "# \ud83e\udd16 DUDACERO.IA: Asistente Virtual para Estudiantes Universitarios\n",
        "\n",
        "Este notebook contiene la implementaci\u00f3n simulada del chatbot Dudacero.IA, dise\u00f1ado para responder dudas frecuentes en aulas virtuales universitarias utilizando IA generativa.\n"
      ]
    },
    {
      "cell_type": "code",
      "execution_count": null,
      "metadata": {},
      "outputs": [],
      "source": [
        "# \ud83d\udd27 Configuraci\u00f3n\n",
        "import requests, json\n",
        "\n",
        "API_URL = \"https://generativelanguage.googleapis.com/v1beta/models/gemini-1.5-pro-latest:generateContent\"\n",
        "API_KEY = \"TU_API_KEY\"  # Reemplazar con tu clave\n",
        "\n",
        "def enviar_prompt(prompt):\n",
        "    headers = {\n",
        "        \"Content-Type\": \"application/json\",\n",
        "        \"x-goog-api-key\": API_KEY,\n",
        "    }\n",
        "    data = {\n",
        "        \"contents\": [{\"parts\": [{\"text\": prompt}]}]\n",
        "    }\n",
        "    response = requests.post(API_URL, headers=headers, data=json.dumps(data))\n",
        "    return response.json()[\"candidates\"][0][\"content\"][\"parts\"][0][\"text\"]"
      ]
    },
    {
      "cell_type": "markdown",
      "metadata": {},
      "source": [
        "## \ud83d\udcac Simulaci\u00f3n de Interacciones"
      ]
    },
    {
      "cell_type": "code",
      "execution_count": null,
      "metadata": {},
      "outputs": [],
      "source": [
        "interacciones = [\n",
        "    (\"Hola, soy Dudacero.IA, el asistente virtual de Metodolog\u00eda de la Investigaci\u00f3n Social I. \u00bfEn qu\u00e9 puedo ayudarte hoy? Eleg\u00ed una opci\u00f3n:\",\n",
        "     \"1) Consultas bibliogr\u00e1ficas\\n2) Programa y cronograma interactivo\\n3) Fechas de examen, trabajos pr\u00e1cticos y criterios de evaluaci\u00f3n\\n4) Problemas con el aula virtual\\n5) Ayuda para redactar o estudiar\"),\n",
        "\n",
        "    (\"Usuario: 1\",\n",
        "     \"Chatbot: Ingres\u00e1 el nombre del texto que quer\u00e9s que resuma o explique.\"),\n",
        "    (\"Usuario: Resume 'Vigilar y Castigar' en tres puntos clave.\",\n",
        "     \"Chatbot: 1. Cambio del castigo corporal al disciplinamiento del alma...\"),\n",
        "    (\"Usuario: \u00bfQu\u00e9 bibliograf\u00eda recomiendan para entender a Durkheim?\",\n",
        "     \"Chatbot: Pod\u00e9s empezar por 'Las reglas del m\u00e9todo sociol\u00f3gico'. \u00bfQuer\u00e9s que te lo resuma?\"),\n",
        "\n",
        "    (\"Usuario: 2\",\n",
        "     \"Chatbot: \u00bfQuer\u00e9s saber qu\u00e9 se ve en la pr\u00f3xima clase o buscar por semana espec\u00edfica?\"),\n",
        "    (\"Usuario: \u00bfQu\u00e9 temas se ven la semana 4?\",\n",
        "     \"Chatbot: Semana 4 - Unidad 3: Teor\u00edas del poder en Foucault.\"),\n",
        "    (\"Usuario: \u00bfQu\u00e9 actividades hay en la semana 6?\",\n",
        "     \"Chatbot: Semana 6 - Debate en clase sobre dise\u00f1o muestral. Entrega de cuestionario exploratorio.\"),\n",
        "\n",
        "    (\"Usuario: 3\",\n",
        "     \"Chatbot: \u00bfQuer\u00e9s saber sobre ex\u00e1menes, entregas de TP o criterios de evaluaci\u00f3n?\"),\n",
        "    (\"Usuario: \u00bfCu\u00e1ndo es el segundo parcial?\",\n",
        "     \"Chatbot: El segundo parcial es el 12 de junio, incluye unidades 4 a 7.\"),\n",
        "    (\"Usuario: \u00bfC\u00f3mo se eval\u00faa el trabajo final?\",\n",
        "     \"Chatbot: Se evaluar\u00e1 comprensi\u00f3n te\u00f3rica (40%), aplicaci\u00f3n (30%) y redacci\u00f3n (30%).\"),\n",
        "\n",
        "    (\"Usuario: 4\",\n",
        "     \"Chatbot: \u00bfPod\u00e9s contarme qu\u00e9 tipo de problema est\u00e1s teniendo?\"),\n",
        "    (\"Usuario: No puedo acceder a los archivos de la unidad 5.\",\n",
        "     \"Chatbot: Puede ser un problema de permisos o vencimiento del enlace. Te recomiendo contactar al docente o a soporte t\u00e9cnico.\"),\n",
        "    (\"Usuario: Me aparece error 404 en las actividades.\",\n",
        "     \"Chatbot: Eso suele indicar que el enlace fue eliminado o est\u00e1 mal configurado. \u00bfQuer\u00e9s que te diga c\u00f3mo reportarlo?\"),\n",
        "\n",
        "    (\"Usuario: 5\",\n",
        "     \"Chatbot: \u00bfQuer\u00e9s ayuda para redactar un texto acad\u00e9mico o para organizar el estudio?\"),\n",
        "    (\"Usuario: Ayuda para armar un esquema de estudio.\",\n",
        "     \"Chatbot: Te propongo hacer un esquema por unidades, con fechas y objetivos. \u00bfQuer\u00e9s que lo arme por vos?\"),\n",
        "    (\"Usuario: Necesito reformular un p\u00e1rrafo con lenguaje m\u00e1s formal.\",\n",
        "     \"Chatbot: Copiame el texto y lo reescribo con estilo acad\u00e9mico.\"),\n",
        "]\n",
        "\n",
        "for pregunta, respuesta in interacciones:\n",
        "    print(pregunta)\n",
        "    if respuesta:\n",
        "        print(respuesta)\n"
      ]
    }
  ],
  "metadata": {
    "kernelspec": {
      "display_name": "Python 3",
      "language": "python",
      "name": "python3"
    },
    "language_info": {
      "name": "python",
      "version": "3.x"
    }
  },
  "nbformat": 4,
  "nbformat_minor": 5
}