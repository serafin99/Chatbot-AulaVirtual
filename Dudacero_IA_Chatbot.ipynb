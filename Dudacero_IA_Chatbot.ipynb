{
  "cells": [
    {
      "cell_type": "markdown",
      "metadata": {},
      "source": [
        "# \ud83e\udd16 DUDACERO.IA: Asistente Virtual para Estudiantes Universitarios\n",
        "\n",
        "Dudacero.IA es un chatbot basado en inteligencia artificial generativa, dise\u00f1ado para responder dudas frecuentes en el entorno de aulas virtuales universitarias. Utiliza prompts optimizados y modelos texto-texto para ofrecer respuestas r\u00e1pidas sobre textos, fechas, criterios de evaluaci\u00f3n, programas de clase y actividades. Su implementaci\u00f3n libera tiempo docente, mejora el acceso a la informaci\u00f3n y optimiza la experiencia del estudiantado universitario."
      ]
    },
    {
      "cell_type": "markdown",
      "metadata": {},
      "source": [
        "## \ud83d\udcc5 Introducci\u00f3n\n",
        "**Nombre del Proyecto:** DUDACERO.IA\n",
        "\n",
        "### \u2753 Presentaci\u00f3n del Problema\n",
        "En contextos universitarios, los y las estudiantes realizan constantemente consultas similares: fechas de entrega, criterios de evaluaci\u00f3n, res\u00famenes de textos, cronogramas, materiales faltantes, entre otros. Estas dudas se repiten y saturan los canales de comunicaci\u00f3n, generando demoras en las respuestas docentes y desgaste tanto del lado de quienes ense\u00f1an como de quienes estudian. Si bien muchos/as estudiantes ya utilizan herramientas de IA, no existen propuestas institucionales que acompa\u00f1en y organicen este uso."
      ]
    },
    {
      "cell_type": "markdown",
      "metadata": {},
      "source": [
        "## \ud83e\udde0 Relevancia\n",
        "Formalizar el uso de un asistente virtual basado en IA generativa permite ordenar estas interacciones, reducir la sobrecarga docente y brindar un acceso r\u00e1pido, directo y pedag\u00f3gicamente adecuado a la informaci\u00f3n del aula virtual."
      ]
    },
    {
      "cell_type": "markdown",
      "metadata": {},
      "source": [
        "## \ud83c\udfaf Objetivos\n",
        "- Desarrollar un chatbot que responda preguntas frecuentes del aula virtual.\n",
        "- Aplicar t\u00e9cnicas de fast prompting para optimizar las respuestas.\n",
        "- Simular interacciones que resuelvan consultas comunes.\n",
        "- Evaluar la viabilidad de integrar IA al entorno educativo universitario."
      ]
    },
    {
      "cell_type": "markdown",
      "metadata": {},
      "source": [
        "## \ud83d\ude80 Desarrollo de la propuesta de soluci\u00f3n\n",
        "Se propone el desarrollo de Dudacero.IA, un asistente virtual dise\u00f1ado para responder consultas frecuentes utilizando modelos de texto-texto (Gemini Pro) a partir de prompts claros y espec\u00edficos."
      ]
    },
    {
      "cell_type": "markdown",
      "metadata": {},
      "source": [
        "## \u2705 Viabilidad del proyecto\n",
        "- El modelo Gemini Pro (v\u00eda API) es gratuito y potente.\n",
        "- Se utiliza Google Colab como entorno de desarrollo.\n",
        "- El lenguaje utilizado es Python.\n",
        "- El proyecto puede desarrollarse en menos de 8 semanas, con herramientas accesibles y de c\u00f3digo abierto."
      ]
    },
    {
      "cell_type": "markdown",
      "metadata": {},
      "source": [
        "## \ud83e\uddf0 Herramientas y Tecnolog\u00edas\n",
        "| Componente | Tecnolog\u00eda | Justificaci\u00f3n |\n",
        "|------------|------------|----------------|\n",
        "| Modelo IA | Gemini Pro | Gratuito, rendimiento equivalente a GPT-3.5 |\n",
        "| Desarrollo | Google Colab | Entorno accesible y libre de instalaciones |\n",
        "| Lenguaje | Python | Flexible y ampliamente usado en IA |\n",
        "| T\u00e9cnica de Prompts | Fast prompting | Mejora la calidad y precisi\u00f3n de las respuestas |"
      ]
    },
    {
      "cell_type": "code",
      "execution_count": null,
      "metadata": {},
      "outputs": [],
      "source": [
        "# \ud83d\udd27 Configuraci\u00f3n\n",
        "import requests, json\n",
        "\n",
        "API_URL = \"https://generativelanguage.googleapis.com/v1beta/models/gemini-1.5-pro-latest:generateContent\"\n",
        "API_KEY = \"TU_API_KEY\"  # Reemplazar con tu clave\n",
        "\n",
        "def enviar_prompt(prompt):\n",
        "    headers = {\n",
        "        \"Content-Type\": \"application/json\",\n",
        "        \"x-goog-api-key\": API_KEY,\n",
        "    }\n",
        "    data = {\n",
        "        \"contents\": [{\"parts\": [{\"text\": prompt}]}]\n",
        "    }\n",
        "    response = requests.post(API_URL, headers=headers, data=json.dumps(data))\n",
        "    return response.json()[\"candidates\"][0][\"content\"][\"parts\"][0][\"text\"]"
      ]
    },
    {
      "cell_type": "markdown",
      "metadata": {},
      "source": [
        "## \ud83d\udcac Simulaci\u00f3n de Interacciones"
      ]
    },
    {
      "cell_type": "code",
      "execution_count": null,
      "metadata": {},
      "outputs": [],
      "source": [
        "interacciones = [\n",
        "    # [Las interacciones van aqu\u00ed, como en el ejemplo anterior...]\n",
        "]\n",
        "\n",
        "for pregunta, respuesta in interacciones:\n",
        "    print(pregunta)\n",
        "    if respuesta:\n",
        "        print(respuesta)"
      ]
    },
    {
      "cell_type": "markdown",
      "metadata": {},
      "source": [
        "## \ud83d\udcca Resultados\n",
        "- El chatbot responde de forma clara, coherente y contextualizada.\n",
        "- Reduce significativamente la necesidad de intervenci\u00f3n docente.\n",
        "- Mejora la experiencia del estudiantado.\n",
        "- Se puede personalizar por asignatura o facultad."
      ]
    },
    {
      "cell_type": "markdown",
      "metadata": {},
      "source": [
        "## \ud83d\udcc4 Conclusiones\n",
        "El proyecto Dudacero.IA cumpli\u00f3 sus objetivos. Se demostr\u00f3 su viabilidad t\u00e9cnica y pertinencia pedag\u00f3gica. Facilita la interacci\u00f3n entre estudiantes y contenidos curriculares sin reemplazar el rol docente. Su escalabilidad lo vuelve ideal para instituciones educativas que deseen integrar IA sin grandes inversiones."
      ]
    },
    {
      "cell_type": "markdown",
      "metadata": {},
      "source": [
        "## \ud83d\udcda Referencias\n",
        "- https://ai.google.dev/\n",
        "- https://chat.openai.com\n",
        "- Foucault, M. (1975). Vigilar y Castigar. Siglo XXI\n",
        "- Durkheim, E. (1895). Las reglas del m\u00e9todo sociol\u00f3gico.\n",
        "- Materiales del curso de Inteligencia Artificial Generaci\u00f3n de Prompts de Coder House"
      ]
    }
  ],
  "metadata": {
    "kernelspec": {
      "display_name": "Python 3",
      "language": "python",
      "name": "python3"
    },
    "language_info": {
      "name": "python",
      "version": "3.x"
    }
  },
  "nbformat": 4,
  "nbformat_minor": 5
}