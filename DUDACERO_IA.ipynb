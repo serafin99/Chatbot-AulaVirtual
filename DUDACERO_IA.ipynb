# 📚 DUDACERO.IA: Asistente Virtual para Estudiantes Universitarios

# ✨ Resumen
"""
Dudacero.IA es un chatbot basado en inteligencia artificial generativa, diseñado para responder dudas frecuentes en el entorno de aulas virtuales universitarias. Utiliza prompts optimizados y modelos texto-texto para ofrecer respuestas rápidas sobre textos, fechas, criterios de evaluación, programas de clase y actividades.
"""

# 📅 Introducción

# 📌 Nombre del Proyecto
nombre_proyecto = "DUDACERO.IA"

# ❓ Presentación del Problema
"""
En contextos universitarios, los y las estudiantes realizan constantemente consultas similares: fechas de entrega, criterios de evaluación, resúmenes de textos, cronogramas, materiales faltantes, entre otros. Estas dudas se repiten y saturan los canales de comunicación, generando demoras en las respuestas docentes y desgaste tanto del lado de quienes enseñan como de quienes estudian.
"""

# 🧠 Relevancia
"""
Formalizar el uso de un asistente virtual basado en IA generativa permite ordenar estas interacciones, reducir la sobrecarga docente y brindar un acceso rápido, directo y pedagógicamente adecuado a la información del aula virtual.
"""

# 🎯 Objetivos
objetivos = [
    "Desarrollar un chatbot que responda preguntas frecuentes del aula virtual.",
    "Aplicar técnicas de fast prompting para optimizar las respuestas.",
    "Simular interacciones que resuelvan consultas comunes.",
    "Evaluar la viabilidad de integrar IA al entorno educativo universitario.",
]

# 🚀 Desarrollo de la propuesta de solución

# 📌 Configuración y código
import requests
import json

API_URL = "https://generativelanguage.googleapis.com/v1beta/models/gemini-1.5-pro-latest:generateContent"
API_KEY = "TU_API_KEY"  # Reemplazar con tu clave

def enviar_prompt(prompt):
    headers = {
        "Content-Type": "application/json",
        "x-goog-api-key": API_KEY,
    }
    data = {
        "contents": [{"parts": [{"text": prompt}]}]
    }
    response = requests.post(API_URL, headers=headers, data=json.dumps(data))
    return response.json()["candidates"][0]["content"]["parts"][0]["text"]

# 💬 Simulación de Interacciones

interacciones = [
    ("Hola, soy Dudacero.IA, el asistente virtual de Metodología de la Investigación Social I. ¿En qué puedo ayudarte hoy? Elegí una opción:",
     "1) Consultas bibliográficas\n2) Programa y cronograma interactivo\n3) Fechas de examen, trabajos prácticos y criterios de evaluación\n4) Problemas con el aula virtual\n5) Ayuda para redactar o estudiar"),

    ("Usuario: 1",
     "Chatbot: Ingresá el nombre del texto que querés que resuma o explique."),
    ("Usuario: Resume 'Vigilar y Castigar' en tres puntos clave.",
     "Chatbot: 1. Cambio del castigo corporal al disciplinamiento del alma...\n2. Nacimiento de instituciones disciplinarias como cárceles y escuelas...\n3. Control del cuerpo y la conducta mediante vigilancia constante."),
    ("Usuario: ¿Qué bibliografía recomiendan para entender a Durkheim?",
     "Chatbot: Podés empezar por 'Las reglas del método sociológico'. ¿Querés que te lo resuma?"),

    ("Usuario: 2",
     "Chatbot: ¿Querés saber qué se ve en la próxima clase o buscar por semana específica?"),
    ("Usuario: ¿Qué temas se ven la semana 4?",
     "Chatbot: Semana 4 - Unidad 3: Teorías del poder en Foucault."),
    ("Usuario: ¿Qué actividades hay en la semana 6?",
     "Chatbot: Semana 6 - Debate en clase sobre diseño muestral. Entrega de cuestionario exploratorio."),

    ("Usuario: 3",
     "Chatbot: ¿Querés saber sobre exámenes, entregas de TP o criterios de evaluación?"),
    ("Usuario: ¿Cuándo es el segundo parcial?",
     "Chatbot: El segundo parcial es el 12 de junio, incluye unidades 4 a 7."),
    ("Usuario: ¿Cómo se evalúa el trabajo final?",
     "Chatbot: Se evaluará comprensión teórica (40%), aplicación (30%) y redacción (30%)."),

    ("Usuario: 4",
     "Chatbot: ¿Podés contarme qué tipo de problema estás teniendo?"),
    ("Usuario: No puedo acceder a los archivos de la unidad 5.",
     "Chatbot: Puede ser un problema de permisos o vencimiento del enlace. Te recomiendo contactar al docente o a soporte técnico."),
    ("Usuario: Me aparece error 404 en las actividades.",
     "Chatbot: Eso suele indicar que el enlace fue eliminado o está mal configurado. ¿Querés que te diga cómo reportarlo?"),

    ("Usuario: 5",
     "Chatbot: ¿Querés ayuda para redactar un texto académico o para organizar el estudio?"),
    ("Usuario: Ayuda para armar un esquema de estudio.",
     "Chatbot: Te propongo hacer un esquema por unidades, con fechas y objetivos. ¿Querés que lo arme por vos?"),
    ("Usuario: Necesito reformular un párrafo con lenguaje más formal.",
     "Chatbot: Copiame el texto y lo reescribo con estilo académico."),
]

for pregunta, respuesta in interacciones:
    print(pregunta)
    if respuesta:
        print(respuesta)

# 📊 Resultados
"""
✅ El chatbot responde de forma clara, coherente y contextualizada.

✅ Reduce significativamente la necesidad de intervención docente.

✅ Mejora la experiencia de quienes estudian, al brindar acceso rápido a información clave.

✅ Se puede personalizar por asignatura o facultad.
"""

# 📄 Conclusiones
"""
El proyecto Dudacero.IA cumplió sus objetivos: se diseñó, implementó y simuló un asistente virtual universitario usando técnicas de fast prompting, IA generativa y Python. Se demostró la viabilidad técnica del proyecto y se justificó su pertinencia pedagógica.

La herramienta propone una solución concreta a un problema cotidiano, facilitando la interacción entre estudiantes y contenidos curriculares sin reemplazar el rol docente, sino complementándolo.

Su potencial de escalabilidad y personalización lo vuelve ideal para instituciones educativas que deseen integrar IA sin grandes inversiones.
"""

# 📚 Referencias
referencias = [
    "https://ai.google.dev/",
    "https://chat.openai.com",
    "Foucault, M. (1975). Vigilar y Castigar. Siglo XXI",
    "Durkheim, E. (1895). Las reglas del método sociológico.",
    "Materiales del curso de Inteligencia Artificial Generación de Prompts de Coder House"
]
